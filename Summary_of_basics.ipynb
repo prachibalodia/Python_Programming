{
 "cells": [
  {
   "cell_type": "code",
   "execution_count": 4,
   "id": "84df7372",
   "metadata": {},
   "outputs": [
    {
     "data": {
      "text/plain": [
       "[1, 'Prachi', True, 'Hi', 'A', 22.4]"
      ]
     },
     "execution_count": 4,
     "metadata": {},
     "output_type": "execute_result"
    }
   ],
   "source": [
    "#Lists\n",
    "#-> Square Brackets []\n",
    "#-> Ordered\n",
    "#-> Allows Duplicates\n",
    "#-> Mutable (Can be Modified, Updated)\n",
    "#-> Indexing and slicing are allowed\n",
    "\n",
    "l1 = [1, \"Prachi\", True, \"Hi\", 'A', 22.4]\n",
    "l1"
   ]
  },
  {
   "cell_type": "code",
   "execution_count": 5,
   "id": "7c216295",
   "metadata": {},
   "outputs": [
    {
     "data": {
      "text/plain": [
       "(1, 33.6, 'Hello', 'Hi', True)"
      ]
     },
     "execution_count": 5,
     "metadata": {},
     "output_type": "execute_result"
    }
   ],
   "source": [
    "#Tuple\n",
    "#-> Round Brackets ()\n",
    "#-> Ordered\n",
    "#-> Allows Duplicated\n",
    "#-> Immutable (Can't be Modified, Updated)\n",
    "#-> Indexing and slicing are allowed\n",
    "\n",
    "t1= (1,33.6,\"Hello\", 'Hi',True)\n",
    "t1"
   ]
  },
  {
   "cell_type": "code",
   "execution_count": 6,
   "id": "4c1a8407",
   "metadata": {},
   "outputs": [
    {
     "data": {
      "text/plain": [
       "{1, 2, 44.8, 'H', 'Prachi', 'Roshni'}"
      ]
     },
     "execution_count": 6,
     "metadata": {},
     "output_type": "execute_result"
    }
   ],
   "source": [
    "#Set\n",
    "#-> Curly Brackets {}\n",
    "#-> Unordered\n",
    "#-> Doen't allow duplicates\n",
    "#-> Immutable (Can't be modified, updated)\n",
    "#-> Indexing and slicing are not allowed\n",
    "\n",
    "s1= {1, 2, 44.8, \"Prachi\", \"Roshni\", 'H', True}\n",
    "s1"
   ]
  },
  {
   "cell_type": "code",
   "execution_count": 7,
   "id": "e3f3650e",
   "metadata": {},
   "outputs": [
    {
     "data": {
      "text/plain": [
       "{1: '001', 'Name': 'Prachi', 'Age': 21, 'Height': 165.5}"
      ]
     },
     "execution_count": 7,
     "metadata": {},
     "output_type": "execute_result"
    }
   ],
   "source": [
    "#Dictionary\n",
    "#-> Curly Brackets {}\n",
    "#-> Key, Value pairs\n",
    "#-> Ordered\n",
    "#-> Duplicates of keys are not allowed, value duplicates are allowed\n",
    "#-> Mutable (Can be modified, updated)\n",
    "\n",
    "d1= {1:\"001\", \"Name\":\"Prachi\", \"Age\":21, \"Height\":165.5}\n",
    "d1"
   ]
  }
 ],
 "metadata": {
  "kernelspec": {
   "display_name": "Python 3 (ipykernel)",
   "language": "python",
   "name": "python3"
  },
  "language_info": {
   "codemirror_mode": {
    "name": "ipython",
    "version": 3
   },
   "file_extension": ".py",
   "mimetype": "text/x-python",
   "name": "python",
   "nbconvert_exporter": "python",
   "pygments_lexer": "ipython3",
   "version": "3.10.9"
  }
 },
 "nbformat": 4,
 "nbformat_minor": 5
}
