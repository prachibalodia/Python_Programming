{
 "cells": [
  {
   "cell_type": "code",
   "execution_count": 5,
   "id": "6dd49d99",
   "metadata": {},
   "outputs": [
    {
     "name": "stdout",
     "output_type": "stream",
     "text": [
      "<class 'list'>\n"
     ]
    }
   ],
   "source": [
    "#List - anything in square braces[]\n",
    "#List are mutable- can be changed or modified after its creation\n",
    "[1,2,3]\n",
    "print(type([1,2,3]))"
   ]
  },
  {
   "cell_type": "code",
   "execution_count": 6,
   "id": "f2b45eb2",
   "metadata": {},
   "outputs": [
    {
     "data": {
      "text/plain": [
       "['Vanilla', 'Chocolate', 5, True, ['V', 'A', 'C'], ['Hi', 'Hello']]"
      ]
     },
     "execution_count": 6,
     "metadata": {},
     "output_type": "execute_result"
    }
   ],
   "source": [
    "#List inside list, and various different datatypes inside a single list\n",
    "['Vanilla', 'Chocolate', 5, True, ['V', 'A', 'C'], ['Hi', 'Hello']]"
   ]
  },
  {
   "cell_type": "code",
   "execution_count": 8,
   "id": "59b020a9",
   "metadata": {},
   "outputs": [
    {
     "name": "stdout",
     "output_type": "stream",
     "text": [
      "['Vanilla', 'Chocolate', 'Mint']\n"
     ]
    }
   ],
   "source": [
    "fav= ['Vanilla', 'Chocolate', 'Mint']\n",
    "print(fav)"
   ]
  },
  {
   "cell_type": "code",
   "execution_count": 10,
   "id": "5551c39b",
   "metadata": {},
   "outputs": [
    {
     "name": "stdout",
     "output_type": "stream",
     "text": [
      "['Vanilla', 'Chocolate', 'Mint', 'Caramel', 'Caramel']\n",
      "\n",
      "\n"
     ]
    },
    {
     "data": {
      "text/plain": [
       "['Vanilla', 'Chocolate', 'Mint', 'Caramel', 'Caramel']"
      ]
     },
     "execution_count": 10,
     "metadata": {},
     "output_type": "execute_result"
    }
   ],
   "source": [
    "#Appending- at the end of the list\n",
    "fav.append('Caramel')\n",
    "print(fav)\n",
    "print(\"\\n\")\n",
    "fav"
   ]
  },
  {
   "cell_type": "code",
   "execution_count": 11,
   "id": "d139acdc",
   "metadata": {},
   "outputs": [
    {
     "data": {
      "text/plain": [
       "['Strawberry', 'Chocolate', 'Mint', 'Caramel', 'Caramel']"
      ]
     },
     "execution_count": 11,
     "metadata": {},
     "output_type": "execute_result"
    }
   ],
   "source": [
    "fav[0]= \"Strawberry\"\n",
    "fav"
   ]
  },
  {
   "cell_type": "code",
   "execution_count": 12,
   "id": "b5162fe3",
   "metadata": {},
   "outputs": [
    {
     "data": {
      "text/plain": [
       "['Strawberry', 'Chocolate', 'Mint', 'Caramel', 'Caramel', 'Vanilla']"
      ]
     },
     "execution_count": 12,
     "metadata": {},
     "output_type": "execute_result"
    }
   ],
   "source": [
    "fav.append(\"Vanilla\")\n",
    "fav"
   ]
  },
  {
   "cell_type": "code",
   "execution_count": 13,
   "id": "acd757da",
   "metadata": {},
   "outputs": [],
   "source": [
    "nestedList= ['Vanilla', 'Chocolate', 5, True, ['V', 'A', 'C'], ['Hi', 'Hello']]"
   ]
  },
  {
   "cell_type": "code",
   "execution_count": 17,
   "id": "466a8f13",
   "metadata": {},
   "outputs": [
    {
     "name": "stdout",
     "output_type": "stream",
     "text": [
      "Vanilla \n",
      "\n",
      "Chocolate \n",
      "\n",
      "5 \n",
      "\n",
      "True \n",
      "\n",
      "['V', 'A', 'C'] \n",
      "\n",
      "V \n",
      "\n",
      "C \n",
      "\n",
      "['Hi', 'Hello'] \n",
      "\n",
      "Hello \n",
      "\n"
     ]
    }
   ],
   "source": [
    "print(nestedList[0], \"\\n\")\n",
    "print(nestedList[1], \"\\n\")\n",
    "print(nestedList[2], \"\\n\")\n",
    "print(nestedList[3], \"\\n\")\n",
    "print(nestedList[4], \"\\n\")\n",
    "print(nestedList[4][0], \"\\n\")\n",
    "print(nestedList[4][2], \"\\n\")\n",
    "print(nestedList[5], \"\\n\")\n",
    "print(nestedList[5][1], \"\\n\")"
   ]
  },
  {
   "cell_type": "code",
   "execution_count": 18,
   "id": "0112d11a",
   "metadata": {},
   "outputs": [],
   "source": [
    "#Tuple- anything in round braces()\n",
    "#->Immutable-> Can't be changed or modified after it's creation\n",
    "#->Used for the data which is never going to change\n",
    "\n",
    "tupleScoops= (1,2,3,4,2,4,1,5,5)"
   ]
  },
  {
   "cell_type": "code",
   "execution_count": 19,
   "id": "ef2a0a90",
   "metadata": {},
   "outputs": [
    {
     "data": {
      "text/plain": [
       "tuple"
      ]
     },
     "execution_count": 19,
     "metadata": {},
     "output_type": "execute_result"
    }
   ],
   "source": [
    "type(tupleScoops)"
   ]
  },
  {
   "cell_type": "code",
   "execution_count": 20,
   "id": "5f149fc6",
   "metadata": {},
   "outputs": [
    {
     "data": {
      "text/plain": [
       "1"
      ]
     },
     "execution_count": 20,
     "metadata": {},
     "output_type": "execute_result"
    }
   ],
   "source": [
    "tupleScoops[0]"
   ]
  },
  {
   "cell_type": "code",
   "execution_count": 21,
   "id": "88cc23f1",
   "metadata": {},
   "outputs": [
    {
     "data": {
      "text/plain": [
       "4"
      ]
     },
     "execution_count": 21,
     "metadata": {},
     "output_type": "execute_result"
    }
   ],
   "source": [
    "tupleScoops[5]"
   ]
  },
  {
   "cell_type": "code",
   "execution_count": 22,
   "id": "6dddd2fc",
   "metadata": {},
   "outputs": [
    {
     "ename": "AttributeError",
     "evalue": "'tuple' object has no attribute 'append'",
     "output_type": "error",
     "traceback": [
      "\u001b[1;31m---------------------------------------------------------------------------\u001b[0m",
      "\u001b[1;31mAttributeError\u001b[0m                            Traceback (most recent call last)",
      "Cell \u001b[1;32mIn[22], line 1\u001b[0m\n\u001b[1;32m----> 1\u001b[0m \u001b[43mtupleScoops\u001b[49m\u001b[38;5;241;43m.\u001b[39;49m\u001b[43mappend\u001b[49m(\u001b[38;5;241m4\u001b[39m)\n",
      "\u001b[1;31mAttributeError\u001b[0m: 'tuple' object has no attribute 'append'"
     ]
    }
   ],
   "source": [
    "tupleScoops.append(4) #will give an error, as tuple are immutable"
   ]
  },
  {
   "cell_type": "code",
   "execution_count": 32,
   "id": "f728d5f6",
   "metadata": {},
   "outputs": [],
   "source": [
    "#Sets- anything in curly braces{}\n",
    "#->Doesn't contains duplicates\n",
    "#->Indexing is not possible, as sets are unordered\n",
    "#- Elements can be accessed using a loop\n",
    "\n",
    "set1= {1,2,3,4,5,5,4,1,6}"
   ]
  },
  {
   "cell_type": "code",
   "execution_count": 33,
   "id": "edfe7c82",
   "metadata": {},
   "outputs": [
    {
     "name": "stdout",
     "output_type": "stream",
     "text": [
      "{1, 2, 3, 4, 5, 6}\n"
     ]
    }
   ],
   "source": [
    "print(set1)"
   ]
  },
  {
   "cell_type": "code",
   "execution_count": 34,
   "id": "0be854e8",
   "metadata": {},
   "outputs": [
    {
     "data": {
      "text/plain": [
       "set"
      ]
     },
     "execution_count": 34,
     "metadata": {},
     "output_type": "execute_result"
    }
   ],
   "source": [
    "type(set1)"
   ]
  },
  {
   "cell_type": "code",
   "execution_count": 35,
   "id": "57b01026",
   "metadata": {},
   "outputs": [
    {
     "name": "stdout",
     "output_type": "stream",
     "text": [
      "{1, 2, 3, 4, 5, 6, 7, 20, 21, 23, 31}\n"
     ]
    }
   ],
   "source": [
    "#Combining unique values between two sets(Union)\n",
    "#Union-> |\n",
    "set2= {21,21,20,2,3,4,5,7,23,31,1,2}\n",
    "print(set1 | set2)"
   ]
  },
  {
   "cell_type": "code",
   "execution_count": 36,
   "id": "747e1dc3",
   "metadata": {},
   "outputs": [
    {
     "name": "stdout",
     "output_type": "stream",
     "text": [
      "{1, 2, 3, 4, 5}\n"
     ]
    }
   ],
   "source": [
    "#Extracting only common elements between two sets(intersection)\n",
    "#Intersection-> &\n",
    "print(set1 & set2)"
   ]
  },
  {
   "cell_type": "code",
   "execution_count": 38,
   "id": "7b486cc7",
   "metadata": {},
   "outputs": [
    {
     "name": "stdout",
     "output_type": "stream",
     "text": [
      "{7, 20, 21, 23, 31}\n",
      "\n",
      "\n",
      "{6}\n"
     ]
    }
   ],
   "source": [
    "#Elements which doesnt match(Difference)\n",
    "#Difference-> (-)\n",
    "print(set2 - set1)\n",
    "print(\"\\n\")\n",
    "print(set1-set2)"
   ]
  },
  {
   "cell_type": "code",
   "execution_count": 40,
   "id": "14f0f9b8",
   "metadata": {},
   "outputs": [
    {
     "name": "stdout",
     "output_type": "stream",
     "text": [
      "{6, 7, 20, 21, 23, 31}\n",
      "{6, 7, 20, 21, 23, 31}\n"
     ]
    }
   ],
   "source": [
    "#Values that are competely unique to each of the sets(Unique)\n",
    "#Unique-> ^\n",
    "print(set1 ^ set2)\n",
    "#or\n",
    "print(set2 ^ set1)"
   ]
  },
  {
   "cell_type": "code",
   "execution_count": 41,
   "id": "7706b508",
   "metadata": {},
   "outputs": [
    {
     "data": {
      "text/plain": [
       "{'Name': 'Prachi',\n",
       " 'Age': 21,\n",
       " 'Fav ice-cream': ['Chocolate', 'Brownie Chocolate']}"
      ]
     },
     "execution_count": 41,
     "metadata": {},
     "output_type": "execute_result"
    }
   ],
   "source": [
    "#Dictionaries- {Key:Value}\n",
    "#-> Consists of a key value pair\n",
    "\n",
    "dict1= {\"Name\": \"Prachi\", \"Age\":21, \"Fav ice-cream\":[\"Chocolate\", \"Brownie Chocolate\"]}\n",
    "dict1"
   ]
  },
  {
   "cell_type": "code",
   "execution_count": 43,
   "id": "7111ec52",
   "metadata": {},
   "outputs": [
    {
     "data": {
      "text/plain": [
       "dict"
      ]
     },
     "execution_count": 43,
     "metadata": {},
     "output_type": "execute_result"
    }
   ],
   "source": [
    "type(dict1)"
   ]
  },
  {
   "cell_type": "code",
   "execution_count": 44,
   "id": "cdc30414",
   "metadata": {},
   "outputs": [
    {
     "data": {
      "text/plain": [
       "dict_keys(['Name', 'Age', 'Fav ice-cream'])"
      ]
     },
     "execution_count": 44,
     "metadata": {},
     "output_type": "execute_result"
    }
   ],
   "source": [
    "dict1.keys()"
   ]
  },
  {
   "cell_type": "code",
   "execution_count": 45,
   "id": "a6a45e82",
   "metadata": {},
   "outputs": [
    {
     "data": {
      "text/plain": [
       "dict_values(['Prachi', 21, ['Chocolate', 'Brownie Chocolate']])"
      ]
     },
     "execution_count": 45,
     "metadata": {},
     "output_type": "execute_result"
    }
   ],
   "source": [
    "dict1.values()"
   ]
  },
  {
   "cell_type": "code",
   "execution_count": 46,
   "id": "a626fd12",
   "metadata": {},
   "outputs": [
    {
     "data": {
      "text/plain": [
       "dict_items([('Name', 'Prachi'), ('Age', 21), ('Fav ice-cream', ['Chocolate', 'Brownie Chocolate'])])"
      ]
     },
     "execution_count": 46,
     "metadata": {},
     "output_type": "execute_result"
    }
   ],
   "source": [
    "dict1.items()"
   ]
  },
  {
   "cell_type": "code",
   "execution_count": 47,
   "id": "dc73c99c",
   "metadata": {},
   "outputs": [
    {
     "data": {
      "text/plain": [
       "'Prachi'"
      ]
     },
     "execution_count": 47,
     "metadata": {},
     "output_type": "execute_result"
    }
   ],
   "source": [
    "#Accessing the elements one by one\n",
    "dict1[\"Name\"]"
   ]
  },
  {
   "cell_type": "code",
   "execution_count": 49,
   "id": "cca0264f",
   "metadata": {},
   "outputs": [
    {
     "name": "stdout",
     "output_type": "stream",
     "text": [
      "{'Name': 'Roshni', 'Age': 21, 'Fav ice-cream': ['Chocolate', 'Brownie Chocolate']}\n"
     ]
    }
   ],
   "source": [
    "#Updating or modifying the items one by one\n",
    "dict1[\"Name\"]= \"Roshni\"\n",
    "print(dict1)"
   ]
  },
  {
   "cell_type": "code",
   "execution_count": 51,
   "id": "34e32721",
   "metadata": {},
   "outputs": [
    {
     "name": "stdout",
     "output_type": "stream",
     "text": [
      "{'Name': 'Roshni', 'Age': 21, 'Fav ice-cream': ['Chocolate-Chip', 'Brownie Chocolate'], 'Weight': 61}\n"
     ]
    }
   ],
   "source": [
    "#Updating or modifying the items all at once or adding a new key value pair\n",
    "#update can't delete the already existing key value pair\n",
    "\n",
    "dict1.update({'Name': 'Roshni', 'Age': 21, 'Fav ice-cream': ['Chocolate-Chip', 'Brownie Chocolate'], 'Weight':61})\n",
    "print(dict1)"
   ]
  },
  {
   "cell_type": "code",
   "execution_count": 52,
   "id": "38b952b3",
   "metadata": {},
   "outputs": [
    {
     "name": "stdout",
     "output_type": "stream",
     "text": [
      "{'Name': 'Roshni', 'Age': 21, 'Fav ice-cream': ['Chocolate-Chip', 'Brownie Chocolate'], 'Weight': 61, 'Height': 165}\n"
     ]
    }
   ],
   "source": [
    "dict1.update({'Name': 'Roshni', 'Age': 21, 'Height':165, 'Weight':61})\n",
    "print(dict1) #just appends new column"
   ]
  },
  {
   "cell_type": "code",
   "execution_count": 53,
   "id": "c1f339af",
   "metadata": {
    "scrolled": true
   },
   "outputs": [
    {
     "name": "stdout",
     "output_type": "stream",
     "text": [
      "{'Name': 'Roshni', 'Age': 21, 'Fav ice-cream': ['Chocolate-Chip', 'Brownie Chocolate'], 'Weight': 61}\n"
     ]
    }
   ],
   "source": [
    "#Deleting the keys and the values\n",
    "del dict1['Height']\n",
    "print(dict1)"
   ]
  }
 ],
 "metadata": {
  "kernelspec": {
   "display_name": "Python 3 (ipykernel)",
   "language": "python",
   "name": "python3"
  },
  "language_info": {
   "codemirror_mode": {
    "name": "ipython",
    "version": 3
   },
   "file_extension": ".py",
   "mimetype": "text/x-python",
   "name": "python",
   "nbconvert_exporter": "python",
   "pygments_lexer": "ipython3",
   "version": "3.10.9"
  }
 },
 "nbformat": 4,
 "nbformat_minor": 5
}
