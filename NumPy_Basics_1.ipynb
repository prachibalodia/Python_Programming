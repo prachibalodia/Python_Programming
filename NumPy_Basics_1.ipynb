{
 "cells": [
  {
   "cell_type": "code",
   "execution_count": 1,
   "id": "dce1f809",
   "metadata": {},
   "outputs": [],
   "source": [
    "#NumPy\n",
    "#-> Memory consumption is really less\n",
    "import numpy as np"
   ]
  },
  {
   "cell_type": "code",
   "execution_count": 2,
   "id": "38352fea",
   "metadata": {},
   "outputs": [
    {
     "name": "stdout",
     "output_type": "stream",
     "text": [
      "[1, 2, 3]\n",
      "[1 2 3]\n"
     ]
    }
   ],
   "source": [
    "l1= [1,2,3]\n",
    "arr1= np.array([1,2,3])\n",
    "print(l1)\n",
    "print(arr1)"
   ]
  },
  {
   "cell_type": "code",
   "execution_count": 3,
   "id": "6450b071",
   "metadata": {},
   "outputs": [
    {
     "data": {
      "text/plain": [
       "numpy.ndarray"
      ]
     },
     "execution_count": 3,
     "metadata": {},
     "output_type": "execute_result"
    }
   ],
   "source": [
    "type(arr1)"
   ]
  },
  {
   "cell_type": "code",
   "execution_count": 4,
   "id": "ce0f7ed8",
   "metadata": {},
   "outputs": [
    {
     "data": {
      "text/plain": [
       "1"
      ]
     },
     "execution_count": 4,
     "metadata": {},
     "output_type": "execute_result"
    }
   ],
   "source": [
    "#Finding Dimension\n",
    "arr1.ndim"
   ]
  },
  {
   "cell_type": "code",
   "execution_count": 5,
   "id": "fd4e87c3",
   "metadata": {},
   "outputs": [
    {
     "data": {
      "text/plain": [
       "array([13, 14, 15, 16, 17, 18])"
      ]
     },
     "execution_count": 5,
     "metadata": {},
     "output_type": "execute_result"
    }
   ],
   "source": [
    "#ARange\n",
    "#-> printing a range of values\n",
    "#-> Direct\n",
    "np.arange(13,19)"
   ]
  },
  {
   "cell_type": "code",
   "execution_count": 6,
   "id": "052fd0e2",
   "metadata": {},
   "outputs": [
    {
     "data": {
      "text/plain": [
       "range(13, 19)"
      ]
     },
     "execution_count": 6,
     "metadata": {},
     "output_type": "execute_result"
    }
   ],
   "source": [
    "#Indirect\n",
    "range(13,19)"
   ]
  },
  {
   "cell_type": "code",
   "execution_count": 7,
   "id": "22a2708b",
   "metadata": {},
   "outputs": [
    {
     "name": "stdout",
     "output_type": "stream",
     "text": [
      "13\n",
      "14\n",
      "15\n",
      "16\n",
      "17\n",
      "18\n"
     ]
    }
   ],
   "source": [
    "for i in range(13,19):\n",
    "    print(i)"
   ]
  },
  {
   "cell_type": "code",
   "execution_count": 8,
   "id": "f7c776d6",
   "metadata": {},
   "outputs": [
    {
     "data": {
      "text/plain": [
       "array([13, 16, 19, 22, 25, 28, 31, 34, 37])"
      ]
     },
     "execution_count": 8,
     "metadata": {},
     "output_type": "execute_result"
    }
   ],
   "source": [
    "np.arange(13,40,3) #here 3 is the skip value"
   ]
  },
  {
   "cell_type": "code",
   "execution_count": 9,
   "id": "b28ca2df",
   "metadata": {},
   "outputs": [
    {
     "data": {
      "text/plain": [
       "array([12., 15., 18., 21., 24., 27., 30., 33., 36., 39.])"
      ]
     },
     "execution_count": 9,
     "metadata": {},
     "output_type": "execute_result"
    }
   ],
   "source": [
    "np.arange(12,40,3,dtype= float)"
   ]
  },
  {
   "cell_type": "code",
   "execution_count": 10,
   "id": "e339a068",
   "metadata": {},
   "outputs": [
    {
     "data": {
      "text/plain": [
       "array([13. , 16.5, 20. , 23.5, 27. , 30.5, 34. , 37.5])"
      ]
     },
     "execution_count": 10,
     "metadata": {},
     "output_type": "execute_result"
    }
   ],
   "source": [
    "np.arange(13,40,3.5)"
   ]
  },
  {
   "cell_type": "code",
   "execution_count": 11,
   "id": "d1f6f0de",
   "metadata": {},
   "outputs": [
    {
     "data": {
      "text/plain": [
       "array([0., 0., 0., 0., 0., 0., 0., 0., 0., 0.])"
      ]
     },
     "execution_count": 11,
     "metadata": {},
     "output_type": "execute_result"
    }
   ],
   "source": [
    "#Zeros\n",
    "np.zeros(10)"
   ]
  },
  {
   "cell_type": "code",
   "execution_count": 12,
   "id": "75a2bc2b",
   "metadata": {},
   "outputs": [
    {
     "data": {
      "text/plain": [
       "array([1., 1., 1., 1., 1., 1., 1., 1., 1., 1.])"
      ]
     },
     "execution_count": 12,
     "metadata": {},
     "output_type": "execute_result"
    }
   ],
   "source": [
    "#Ones\n",
    "np.ones(10)"
   ]
  },
  {
   "cell_type": "code",
   "execution_count": 14,
   "id": "27641037",
   "metadata": {},
   "outputs": [
    {
     "data": {
      "text/plain": [
       "(array([0., 0., 0., 0., 0., 0., 0., 0., 0., 0., 0., 0., 0., 0., 0.]),\n",
       " array([1, 1, 1, 1, 1, 1, 1, 1, 1, 1, 1, 1, 1]))"
      ]
     },
     "execution_count": 14,
     "metadata": {},
     "output_type": "execute_result"
    }
   ],
   "source": [
    "np.zeros(15), np.ones(13,dtype= int)"
   ]
  },
  {
   "cell_type": "code",
   "execution_count": 18,
   "id": "3f2702a8",
   "metadata": {},
   "outputs": [
    {
     "data": {
      "text/plain": [
       "array([ 0. ,  2.5,  5. ,  7.5, 10. ])"
      ]
     },
     "execution_count": 18,
     "metadata": {},
     "output_type": "execute_result"
    }
   ],
   "source": [
    "#LinSpace\n",
    "np.linspace(0,10,5) #here 5 is the number of divisions to be made"
   ]
  },
  {
   "cell_type": "code",
   "execution_count": 20,
   "id": "2045deec",
   "metadata": {},
   "outputs": [
    {
     "data": {
      "text/plain": [
       "array([  0.,  25.,  50.,  75., 100.])"
      ]
     },
     "execution_count": 20,
     "metadata": {},
     "output_type": "execute_result"
    }
   ],
   "source": [
    "np.linspace(0,100,5)"
   ]
  },
  {
   "cell_type": "code",
   "execution_count": 22,
   "id": "4d02d166",
   "metadata": {},
   "outputs": [],
   "source": [
    "#ArgMax -> Position of the maximum value\n",
    "#ArgMin ->Position of the minimum value\n",
    "arr= np.array([1,2,3,4,5,6,7,8,9])"
   ]
  },
  {
   "cell_type": "code",
   "execution_count": 23,
   "id": "538edc7c",
   "metadata": {},
   "outputs": [
    {
     "data": {
      "text/plain": [
       "8"
      ]
     },
     "execution_count": 23,
     "metadata": {},
     "output_type": "execute_result"
    }
   ],
   "source": [
    "arr.argmax()"
   ]
  },
  {
   "cell_type": "code",
   "execution_count": 24,
   "id": "9ce07e09",
   "metadata": {},
   "outputs": [
    {
     "data": {
      "text/plain": [
       "0"
      ]
     },
     "execution_count": 24,
     "metadata": {},
     "output_type": "execute_result"
    }
   ],
   "source": [
    "arr.argmin()"
   ]
  },
  {
   "cell_type": "code",
   "execution_count": 31,
   "id": "11e154ae",
   "metadata": {},
   "outputs": [],
   "source": [
    "a= np.array([5,2,1,3,5,4,1,5])"
   ]
  },
  {
   "cell_type": "code",
   "execution_count": 32,
   "id": "597994fa",
   "metadata": {},
   "outputs": [
    {
     "data": {
      "text/plain": [
       "0"
      ]
     },
     "execution_count": 32,
     "metadata": {},
     "output_type": "execute_result"
    }
   ],
   "source": [
    "a.argmax() #->gives the 1st occuring index of the maximum element"
   ]
  },
  {
   "cell_type": "code",
   "execution_count": 33,
   "id": "244fd596",
   "metadata": {},
   "outputs": [
    {
     "data": {
      "text/plain": [
       "2"
      ]
     },
     "execution_count": 33,
     "metadata": {},
     "output_type": "execute_result"
    }
   ],
   "source": [
    "a.argmin() #->gives the 1st occuring index of the minimum element"
   ]
  },
  {
   "cell_type": "code",
   "execution_count": 36,
   "id": "1b261ba4",
   "metadata": {},
   "outputs": [
    {
     "data": {
      "text/plain": [
       "(array([2, 1, 3]), array([3, 5, 4, 1]))"
      ]
     },
     "execution_count": 36,
     "metadata": {},
     "output_type": "execute_result"
    }
   ],
   "source": [
    "#Slicing and Indexing in the NumPy Array\n",
    "a[1:4], a[3:7]"
   ]
  },
  {
   "cell_type": "code",
   "execution_count": 37,
   "id": "36b0cdd4",
   "metadata": {},
   "outputs": [
    {
     "data": {
      "text/plain": [
       "array([5, 4, 1, 5])"
      ]
     },
     "execution_count": 37,
     "metadata": {},
     "output_type": "execute_result"
    }
   ],
   "source": [
    "a[-4:]"
   ]
  },
  {
   "cell_type": "code",
   "execution_count": 44,
   "id": "e06aea77",
   "metadata": {},
   "outputs": [
    {
     "data": {
      "text/plain": [
       "(array([5, 2, 1, 3, 5, 4, 1, 5]), array([5, 2, 1, 3, 5, 4, 1]))"
      ]
     },
     "execution_count": 44,
     "metadata": {},
     "output_type": "execute_result"
    }
   ],
   "source": [
    "a[-8:8], a[-8:-1]"
   ]
  },
  {
   "cell_type": "code",
   "execution_count": 45,
   "id": "e7b030e6",
   "metadata": {},
   "outputs": [
    {
     "data": {
      "text/plain": [
       "array([], dtype=int32)"
      ]
     },
     "execution_count": 45,
     "metadata": {},
     "output_type": "execute_result"
    }
   ],
   "source": [
    "a[-1:-4] #reverse doesnt work here"
   ]
  },
  {
   "cell_type": "code",
   "execution_count": 63,
   "id": "6fe8a5d8",
   "metadata": {},
   "outputs": [
    {
     "data": {
      "text/plain": [
       "array([[1, 3, 2, 4],\n",
       "       [9, 8, 6, 7]])"
      ]
     },
     "execution_count": 63,
     "metadata": {},
     "output_type": "execute_result"
    }
   ],
   "source": [
    "b= np.array([[1,3,2,4], [9,8,6,7]])\n",
    "b"
   ]
  },
  {
   "cell_type": "code",
   "execution_count": 64,
   "id": "13f17f4d",
   "metadata": {},
   "outputs": [
    {
     "data": {
      "text/plain": [
       "2"
      ]
     },
     "execution_count": 64,
     "metadata": {},
     "output_type": "execute_result"
    }
   ],
   "source": [
    "b.ndim"
   ]
  },
  {
   "cell_type": "code",
   "execution_count": 66,
   "id": "2b48b42b",
   "metadata": {},
   "outputs": [
    {
     "data": {
      "text/plain": [
       "array([1, 3, 2, 4])"
      ]
     },
     "execution_count": 66,
     "metadata": {},
     "output_type": "execute_result"
    }
   ],
   "source": [
    "b[0]"
   ]
  },
  {
   "cell_type": "code",
   "execution_count": 67,
   "id": "4a67ca70",
   "metadata": {},
   "outputs": [
    {
     "data": {
      "text/plain": [
       "8"
      ]
     },
     "execution_count": 67,
     "metadata": {},
     "output_type": "execute_result"
    }
   ],
   "source": [
    "b[1][1] #since 2 dim"
   ]
  },
  {
   "cell_type": "code",
   "execution_count": 52,
   "id": "20663ac8",
   "metadata": {},
   "outputs": [
    {
     "data": {
      "text/plain": [
       "array([[[[[[ 1,  2,  3],\n",
       "           [ 2,  3,  4],\n",
       "           [55, 44, 33]]]]]])"
      ]
     },
     "execution_count": 52,
     "metadata": {},
     "output_type": "execute_result"
    }
   ],
   "source": [
    "b= np.array([[[[[[1,2,3],[2,3,4],[55,44,33]]]]]])\n",
    "b"
   ]
  },
  {
   "cell_type": "code",
   "execution_count": 60,
   "id": "633dc740",
   "metadata": {},
   "outputs": [
    {
     "data": {
      "text/plain": [
       "array([[ 1,  2,  3],\n",
       "       [ 2,  3,  4],\n",
       "       [55, 44, 33]])"
      ]
     },
     "execution_count": 60,
     "metadata": {},
     "output_type": "execute_result"
    }
   ],
   "source": [
    "b[0][0][0][0]"
   ]
  },
  {
   "cell_type": "code",
   "execution_count": 61,
   "id": "d5dcff35",
   "metadata": {},
   "outputs": [
    {
     "data": {
      "text/plain": [
       "array([1, 2, 3])"
      ]
     },
     "execution_count": 61,
     "metadata": {},
     "output_type": "execute_result"
    }
   ],
   "source": [
    "b[0][0][0][0][0]"
   ]
  },
  {
   "cell_type": "code",
   "execution_count": 62,
   "id": "03698d2d",
   "metadata": {},
   "outputs": [
    {
     "data": {
      "text/plain": [
       "33"
      ]
     },
     "execution_count": 62,
     "metadata": {},
     "output_type": "execute_result"
    }
   ],
   "source": [
    "b[0][0][0][0][2][2] #since 6 dim"
   ]
  },
  {
   "cell_type": "code",
   "execution_count": 53,
   "id": "74bd42d1",
   "metadata": {},
   "outputs": [
    {
     "data": {
      "text/plain": [
       "6"
      ]
     },
     "execution_count": 53,
     "metadata": {},
     "output_type": "execute_result"
    }
   ],
   "source": [
    "b.ndim #since-> 6 brackets"
   ]
  },
  {
   "cell_type": "code",
   "execution_count": 69,
   "id": "6bfe880a",
   "metadata": {},
   "outputs": [
    {
     "data": {
      "text/plain": [
       "array([ 0,  1,  2,  3,  4,  5,  6,  7,  8,  9, 10, 11])"
      ]
     },
     "execution_count": 69,
     "metadata": {},
     "output_type": "execute_result"
    }
   ],
   "source": [
    "#Reshape-> reshaping the array dimension\n",
    "\n",
    "a= np.arange(12) #Possible-> 6*2 or 2*6 and 4*3 or 3*4\n",
    "a"
   ]
  },
  {
   "cell_type": "code",
   "execution_count": 71,
   "id": "13dd9f20",
   "metadata": {},
   "outputs": [
    {
     "data": {
      "text/plain": [
       "(array([[ 0,  1],\n",
       "        [ 2,  3],\n",
       "        [ 4,  5],\n",
       "        [ 6,  7],\n",
       "        [ 8,  9],\n",
       "        [10, 11]]),\n",
       " array([[ 0,  1,  2,  3,  4,  5],\n",
       "        [ 6,  7,  8,  9, 10, 11]]))"
      ]
     },
     "execution_count": 71,
     "metadata": {},
     "output_type": "execute_result"
    }
   ],
   "source": [
    "a.reshape(6,2), a.reshape(2,6)"
   ]
  },
  {
   "cell_type": "code",
   "execution_count": 73,
   "id": "480482b7",
   "metadata": {},
   "outputs": [
    {
     "data": {
      "text/plain": [
       "(array([[ 0,  1,  2],\n",
       "        [ 3,  4,  5],\n",
       "        [ 6,  7,  8],\n",
       "        [ 9, 10, 11]]),\n",
       " array([[ 0,  1,  2,  3],\n",
       "        [ 4,  5,  6,  7],\n",
       "        [ 8,  9, 10, 11]]))"
      ]
     },
     "execution_count": 73,
     "metadata": {},
     "output_type": "execute_result"
    }
   ],
   "source": [
    "a.reshape(4,3),a.reshape(3,4)"
   ]
  },
  {
   "cell_type": "code",
   "execution_count": 74,
   "id": "74c924a2",
   "metadata": {},
   "outputs": [
    {
     "ename": "ValueError",
     "evalue": "cannot reshape array of size 12 into shape (10,4)",
     "output_type": "error",
     "traceback": [
      "\u001b[1;31m---------------------------------------------------------------------------\u001b[0m",
      "\u001b[1;31mValueError\u001b[0m                                Traceback (most recent call last)",
      "Cell \u001b[1;32mIn[74], line 1\u001b[0m\n\u001b[1;32m----> 1\u001b[0m \u001b[43ma\u001b[49m\u001b[38;5;241;43m.\u001b[39;49m\u001b[43mreshape\u001b[49m\u001b[43m(\u001b[49m\u001b[38;5;241;43m10\u001b[39;49m\u001b[43m,\u001b[49m\u001b[38;5;241;43m4\u001b[39;49m\u001b[43m)\u001b[49m\n",
      "\u001b[1;31mValueError\u001b[0m: cannot reshape array of size 12 into shape (10,4)"
     ]
    }
   ],
   "source": [
    "a.reshape(10,4) #error, since 10*4 = 40, so we need 40 values, 12 wont work"
   ]
  },
  {
   "cell_type": "code",
   "execution_count": 75,
   "id": "baf9630d",
   "metadata": {},
   "outputs": [
    {
     "data": {
      "text/plain": [
       "0.4158945768199208"
      ]
     },
     "execution_count": 75,
     "metadata": {},
     "output_type": "execute_result"
    }
   ],
   "source": [
    "#Generation of random values\n",
    "np.random.rand()"
   ]
  },
  {
   "cell_type": "code",
   "execution_count": 76,
   "id": "1271a393",
   "metadata": {},
   "outputs": [
    {
     "data": {
      "text/plain": [
       "array([0.41119682, 0.15328441, 0.76331811, 0.03154145, 0.50851866])"
      ]
     },
     "execution_count": 76,
     "metadata": {},
     "output_type": "execute_result"
    }
   ],
   "source": [
    "np.random.rand(5) #5 random values"
   ]
  },
  {
   "cell_type": "code",
   "execution_count": 80,
   "id": "c800d664",
   "metadata": {},
   "outputs": [
    {
     "data": {
      "text/plain": [
       "array([ 0,  1,  2,  3,  4,  5,  6,  7,  8,  9, 10, 11])"
      ]
     },
     "execution_count": 80,
     "metadata": {},
     "output_type": "execute_result"
    }
   ],
   "source": [
    "a"
   ]
  },
  {
   "cell_type": "code",
   "execution_count": 81,
   "id": "5e644144",
   "metadata": {},
   "outputs": [
    {
     "data": {
      "text/plain": [
       "66"
      ]
     },
     "execution_count": 81,
     "metadata": {},
     "output_type": "execute_result"
    }
   ],
   "source": [
    "a.sum() #Gives sum of all the values in array a"
   ]
  },
  {
   "cell_type": "code",
   "execution_count": 82,
   "id": "3f6be115",
   "metadata": {},
   "outputs": [
    {
     "name": "stderr",
     "output_type": "stream",
     "text": [
      "C:\\Users\\balod\\AppData\\Local\\Temp\\ipykernel_25900\\974705729.py:1: RuntimeWarning: divide by zero encountered in log\n",
      "  np.log(a)\n"
     ]
    },
    {
     "data": {
      "text/plain": [
       "array([      -inf, 0.        , 0.69314718, 1.09861229, 1.38629436,\n",
       "       1.60943791, 1.79175947, 1.94591015, 2.07944154, 2.19722458,\n",
       "       2.30258509, 2.39789527])"
      ]
     },
     "execution_count": 82,
     "metadata": {},
     "output_type": "execute_result"
    }
   ],
   "source": [
    " #Log values\n",
    "np.log(a)"
   ]
  },
  {
   "cell_type": "code",
   "execution_count": 83,
   "id": "4e3914fb",
   "metadata": {},
   "outputs": [
    {
     "name": "stderr",
     "output_type": "stream",
     "text": [
      "C:\\Users\\balod\\AppData\\Local\\Temp\\ipykernel_25900\\547625357.py:1: RuntimeWarning: divide by zero encountered in log10\n",
      "  np.log10(a)\n"
     ]
    },
    {
     "data": {
      "text/plain": [
       "array([      -inf, 0.        , 0.30103   , 0.47712125, 0.60205999,\n",
       "       0.69897   , 0.77815125, 0.84509804, 0.90308999, 0.95424251,\n",
       "       1.        , 1.04139269])"
      ]
     },
     "execution_count": 83,
     "metadata": {},
     "output_type": "execute_result"
    }
   ],
   "source": [
    "np.log10(a)"
   ]
  },
  {
   "cell_type": "code",
   "execution_count": 84,
   "id": "ba5c9a32",
   "metadata": {},
   "outputs": [
    {
     "data": {
      "text/plain": [
       "33"
      ]
     },
     "execution_count": 84,
     "metadata": {},
     "output_type": "execute_result"
    }
   ],
   "source": [
    "#Absolute values\n",
    "np.abs(-33)"
   ]
  },
  {
   "cell_type": "code",
   "execution_count": 85,
   "id": "44d0f582",
   "metadata": {},
   "outputs": [],
   "source": [
    "a= np.array([-2,-5,-55,-44])"
   ]
  },
  {
   "cell_type": "code",
   "execution_count": 86,
   "id": "b82b6913",
   "metadata": {},
   "outputs": [
    {
     "data": {
      "text/plain": [
       "array([ 2,  5, 55, 44])"
      ]
     },
     "execution_count": 86,
     "metadata": {},
     "output_type": "execute_result"
    }
   ],
   "source": [
    "np.abs(a)"
   ]
  },
  {
   "cell_type": "code",
   "execution_count": 87,
   "id": "6169c5de",
   "metadata": {},
   "outputs": [],
   "source": [
    "#Pandas-> Data Manipulation\n",
    "#-> Series -> single column (ex- vector)\n",
    "#-> Data Frame -> multiple columns (ex- tablular form)\n",
    "import pandas as pd"
   ]
  },
  {
   "cell_type": "code",
   "execution_count": 92,
   "id": "1a47394b",
   "metadata": {},
   "outputs": [
    {
     "data": {
      "text/plain": [
       "0    0.598234\n",
       "1    0.574244\n",
       "2    0.111897\n",
       "3    0.575362\n",
       "4    0.345743\n",
       "dtype: float64"
      ]
     },
     "execution_count": 92,
     "metadata": {},
     "output_type": "execute_result"
    }
   ],
   "source": [
    "#Series\n",
    "#-> Indexing and slicing are possible\n",
    "#-> Mutable (values can be modified)\n",
    "#-> Index values can be changed\n",
    "\n",
    "s= pd.Series(np.random.rand(5))\n",
    "s"
   ]
  },
  {
   "cell_type": "code",
   "execution_count": 93,
   "id": "9dcabb80",
   "metadata": {},
   "outputs": [
    {
     "data": {
      "text/plain": [
       "0.5982341310415563"
      ]
     },
     "execution_count": 93,
     "metadata": {},
     "output_type": "execute_result"
    }
   ],
   "source": [
    "s[0]"
   ]
  },
  {
   "cell_type": "code",
   "execution_count": 94,
   "id": "9e0d9c86",
   "metadata": {},
   "outputs": [
    {
     "data": {
      "text/plain": [
       "1    0.574244\n",
       "2    0.111897\n",
       "3    0.575362\n",
       "dtype: float64"
      ]
     },
     "execution_count": 94,
     "metadata": {},
     "output_type": "execute_result"
    }
   ],
   "source": [
    "s[1:4]"
   ]
  },
  {
   "cell_type": "code",
   "execution_count": 97,
   "id": "1aeea7cf",
   "metadata": {},
   "outputs": [
    {
     "data": {
      "text/plain": [
       "1    0.574244\n",
       "2    0.111897\n",
       "3    0.575362\n",
       "dtype: float64"
      ]
     },
     "execution_count": 97,
     "metadata": {},
     "output_type": "execute_result"
    }
   ],
   "source": [
    "s[-4:4] #same as arrays in np"
   ]
  },
  {
   "cell_type": "code",
   "execution_count": 98,
   "id": "b5ae4642",
   "metadata": {},
   "outputs": [
    {
     "data": {
      "text/plain": [
       "0    0.598234\n",
       "1    0.574244\n",
       "2    0.111897\n",
       "3    0.575362\n",
       "dtype: float64"
      ]
     },
     "execution_count": 98,
     "metadata": {},
     "output_type": "execute_result"
    }
   ],
   "source": [
    "s[-5:-1]"
   ]
  },
  {
   "cell_type": "code",
   "execution_count": 99,
   "id": "c44746b2",
   "metadata": {},
   "outputs": [
    {
     "data": {
      "text/plain": [
       "0    222.000000\n",
       "1      0.574244\n",
       "2      0.111897\n",
       "3      0.575362\n",
       "4      0.345743\n",
       "dtype: float64"
      ]
     },
     "execution_count": 99,
     "metadata": {},
     "output_type": "execute_result"
    }
   ],
   "source": [
    "s[0]= 222\n",
    "s"
   ]
  },
  {
   "cell_type": "code",
   "execution_count": 100,
   "id": "76a74b62",
   "metadata": {},
   "outputs": [
    {
     "data": {
      "text/plain": [
       "RangeIndex(start=0, stop=5, step=1)"
      ]
     },
     "execution_count": 100,
     "metadata": {},
     "output_type": "execute_result"
    }
   ],
   "source": [
    "s.index"
   ]
  },
  {
   "cell_type": "code",
   "execution_count": 103,
   "id": "08c36ffe",
   "metadata": {},
   "outputs": [],
   "source": [
    "s.index= ['a', 'b','c',4,'e'] #mixed index"
   ]
  },
  {
   "cell_type": "code",
   "execution_count": 104,
   "id": "fbdde092",
   "metadata": {},
   "outputs": [
    {
     "data": {
      "text/plain": [
       "Index(['a', 'b', 'c', 4, 'e'], dtype='object')"
      ]
     },
     "execution_count": 104,
     "metadata": {},
     "output_type": "execute_result"
    }
   ],
   "source": [
    "s.index"
   ]
  },
  {
   "cell_type": "code",
   "execution_count": 105,
   "id": "6558aa29",
   "metadata": {},
   "outputs": [
    {
     "data": {
      "text/plain": [
       "0.5742438506403734"
      ]
     },
     "execution_count": 105,
     "metadata": {},
     "output_type": "execute_result"
    }
   ],
   "source": [
    "s['b']"
   ]
  },
  {
   "cell_type": "code",
   "execution_count": 107,
   "id": "765e2bcc",
   "metadata": {},
   "outputs": [
    {
     "data": {
      "text/plain": [
       "(222.0,\n",
       " b    0.574244\n",
       " c    0.111897\n",
       " 4    0.575362\n",
       " e    0.345743\n",
       " dtype: float64)"
      ]
     },
     "execution_count": 107,
     "metadata": {},
     "output_type": "execute_result"
    }
   ],
   "source": [
    "s['a'], s['b':'e'] #in string indexing, all the values including last is printed\n",
    "#unlike integer indexing where last value is always skipped"
   ]
  },
  {
   "cell_type": "code",
   "execution_count": 108,
   "id": "9a048059",
   "metadata": {},
   "outputs": [
    {
     "data": {
      "text/plain": [
       "b    0.574244\n",
       "c    0.111897\n",
       "4    0.575362\n",
       "e    0.345743\n",
       "dtype: float64"
      ]
     },
     "execution_count": 108,
     "metadata": {},
     "output_type": "execute_result"
    }
   ],
   "source": [
    "s[1:5] #slicing works in numbers as well"
   ]
  },
  {
   "cell_type": "code",
   "execution_count": 110,
   "id": "a0160b49",
   "metadata": {},
   "outputs": [
    {
     "data": {
      "text/plain": [
       "0     0.392711\n",
       "1     0.218800\n",
       "2     0.189111\n",
       "3     0.493162\n",
       "4     0.069338\n",
       "5     0.329444\n",
       "6     0.333542\n",
       "7     0.842533\n",
       "8     0.703948\n",
       "9     0.141206\n",
       "10    0.238858\n",
       "11    0.360285\n",
       "dtype: float64"
      ]
     },
     "execution_count": 110,
     "metadata": {},
     "output_type": "execute_result"
    }
   ],
   "source": [
    "s2= pd.Series(np.random.rand(12))\n",
    "s2"
   ]
  },
  {
   "cell_type": "code",
   "execution_count": 111,
   "id": "c70e8153",
   "metadata": {},
   "outputs": [
    {
     "data": {
      "text/plain": [
       "1    0.218800\n",
       "3    0.493162\n",
       "5    0.329444\n",
       "7    0.842533\n",
       "9    0.141206\n",
       "dtype: float64"
      ]
     },
     "execution_count": 111,
     "metadata": {},
     "output_type": "execute_result"
    }
   ],
   "source": [
    "s2[1:10:2] #step value=2"
   ]
  },
  {
   "cell_type": "code",
   "execution_count": 112,
   "id": "58854787",
   "metadata": {},
   "outputs": [
    {
     "data": {
      "text/plain": [
       "a    222.000000\n",
       "c      0.111897\n",
       "e      0.345743\n",
       "dtype: float64"
      ]
     },
     "execution_count": 112,
     "metadata": {},
     "output_type": "execute_result"
    }
   ],
   "source": [
    "s['a':'e':2]"
   ]
  }
 ],
 "metadata": {
  "kernelspec": {
   "display_name": "Python 3 (ipykernel)",
   "language": "python",
   "name": "python3"
  },
  "language_info": {
   "codemirror_mode": {
    "name": "ipython",
    "version": 3
   },
   "file_extension": ".py",
   "mimetype": "text/x-python",
   "name": "python",
   "nbconvert_exporter": "python",
   "pygments_lexer": "ipython3",
   "version": "3.10.9"
  }
 },
 "nbformat": 4,
 "nbformat_minor": 5
}
