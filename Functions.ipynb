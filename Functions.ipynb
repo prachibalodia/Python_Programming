{
 "cells": [
  {
   "cell_type": "code",
   "execution_count": 1,
   "id": "852cf3dd",
   "metadata": {},
   "outputs": [],
   "source": [
    "#Functions\n",
    "\n",
    "#Ex-1\n",
    "def fun():\n",
    "    print(\"Function ran!!\")"
   ]
  },
  {
   "cell_type": "code",
   "execution_count": 2,
   "id": "db691203",
   "metadata": {},
   "outputs": [
    {
     "name": "stdout",
     "output_type": "stream",
     "text": [
      "Function ran!!\n"
     ]
    }
   ],
   "source": [
    "fun()"
   ]
  },
  {
   "cell_type": "code",
   "execution_count": 3,
   "id": "fa913c32",
   "metadata": {},
   "outputs": [],
   "source": [
    "#Ex-2\n",
    "def square(n):\n",
    "    print(n*n)"
   ]
  },
  {
   "cell_type": "code",
   "execution_count": 4,
   "id": "38a31563",
   "metadata": {},
   "outputs": [
    {
     "name": "stdout",
     "output_type": "stream",
     "text": [
      "100\n"
     ]
    }
   ],
   "source": [
    "square(10)"
   ]
  },
  {
   "cell_type": "code",
   "execution_count": 9,
   "id": "9e82ed1f",
   "metadata": {},
   "outputs": [],
   "source": [
    "#Ex-3\n",
    "def pow(n):\n",
    "    print(n**3) #power of three"
   ]
  },
  {
   "cell_type": "code",
   "execution_count": 10,
   "id": "968b0ddf",
   "metadata": {},
   "outputs": [
    {
     "name": "stdout",
     "output_type": "stream",
     "text": [
      "125\n"
     ]
    }
   ],
   "source": [
    "pow(5)"
   ]
  },
  {
   "cell_type": "code",
   "execution_count": 12,
   "id": "fdb46b29",
   "metadata": {},
   "outputs": [],
   "source": [
    "#Ex-4\n",
    "def power(n,p):\n",
    "    print(n**p) #power of p"
   ]
  },
  {
   "cell_type": "code",
   "execution_count": 13,
   "id": "dad577b1",
   "metadata": {},
   "outputs": [
    {
     "name": "stdout",
     "output_type": "stream",
     "text": [
      "81\n"
     ]
    }
   ],
   "source": [
    "power(3,4)"
   ]
  },
  {
   "cell_type": "code",
   "execution_count": 18,
   "id": "7238bf75",
   "metadata": {},
   "outputs": [],
   "source": [
    "#Ex-5\n",
    "#Arbitrary Arguments\n",
    "t1= (1,2,3,4,5,6,7)\n",
    "\n",
    "def fun1(*nums):\n",
    "    print(nums[0]*nums[1])"
   ]
  },
  {
   "cell_type": "code",
   "execution_count": 22,
   "id": "04c1227d",
   "metadata": {},
   "outputs": [
    {
     "name": "stdout",
     "output_type": "stream",
     "text": [
      "2\n"
     ]
    }
   ],
   "source": [
    "fun1(*t1)\n",
    "#fun1(t1) wont work as t1 is a defined tuple, so needs to be passed arbitrarily"
   ]
  },
  {
   "cell_type": "code",
   "execution_count": 23,
   "id": "933cb5bc",
   "metadata": {},
   "outputs": [
    {
     "name": "stdout",
     "output_type": "stream",
     "text": [
      "6\n"
     ]
    }
   ],
   "source": [
    "fun1(2,3,4,5,6,7)"
   ]
  },
  {
   "cell_type": "code",
   "execution_count": 24,
   "id": "8fd067bc",
   "metadata": {},
   "outputs": [
    {
     "name": "stdout",
     "output_type": "stream",
     "text": [
      "125\n"
     ]
    }
   ],
   "source": [
    "#Keyword Argument\n",
    "power(n=5, p=3)"
   ]
  },
  {
   "cell_type": "code",
   "execution_count": 27,
   "id": "33c0c47d",
   "metadata": {},
   "outputs": [],
   "source": [
    "def number_kwarg(**number):\n",
    "    print(\"My nummber is: \" +number['integer'] + \" My other number is: \" + number['integer2'])"
   ]
  },
  {
   "cell_type": "code",
   "execution_count": 28,
   "id": "6044c426",
   "metadata": {},
   "outputs": [
    {
     "name": "stdout",
     "output_type": "stream",
     "text": [
      "My nummber is: 2309 My other number is: 349\n"
     ]
    }
   ],
   "source": [
    "number_kwarg(integer= '2309', integer2= '349')"
   ]
  }
 ],
 "metadata": {
  "kernelspec": {
   "display_name": "Python 3 (ipykernel)",
   "language": "python",
   "name": "python3"
  },
  "language_info": {
   "codemirror_mode": {
    "name": "ipython",
    "version": 3
   },
   "file_extension": ".py",
   "mimetype": "text/x-python",
   "name": "python",
   "nbconvert_exporter": "python",
   "pygments_lexer": "ipython3",
   "version": "3.10.9"
  }
 },
 "nbformat": 4,
 "nbformat_minor": 5
}
