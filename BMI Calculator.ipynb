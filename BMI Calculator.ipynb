{
 "cells": [
  {
   "cell_type": "code",
   "execution_count": null,
   "id": "768faf16",
   "metadata": {},
   "outputs": [],
   "source": [
    "#BMI Calculator"
   ]
  },
  {
   "cell_type": "code",
   "execution_count": 2,
   "id": "0f75c26e",
   "metadata": {},
   "outputs": [],
   "source": [
    "#BMI= (weight in KG) / (height in meters/feet x height in meters/feet)"
   ]
  },
  {
   "cell_type": "code",
   "execution_count": 3,
   "id": "d214c2b7",
   "metadata": {},
   "outputs": [
    {
     "name": "stdout",
     "output_type": "stream",
     "text": [
      "Enter you weight in kg: 61\n",
      "Enter you height in cm: 165\n"
     ]
    },
    {
     "data": {
      "text/plain": [
       "22.405876951331496"
      ]
     },
     "execution_count": 3,
     "metadata": {},
     "output_type": "execute_result"
    }
   ],
   "source": [
    "weight= int(input(\"Enter you weight in kg: \"))\n",
    "height= int(input(\"Enter you height in cm: \"))\n",
    "\n",
    "bmi= (weight)/((height*height)/(10000))\n",
    "bmi"
   ]
  },
  {
   "cell_type": "code",
   "execution_count": 4,
   "id": "6dca96c4",
   "metadata": {},
   "outputs": [
    {
     "name": "stdout",
     "output_type": "stream",
     "text": [
      "Normal Weight\n"
     ]
    }
   ],
   "source": [
    "if bmi>0:\n",
    "    if bmi<=18.5:\n",
    "        print(\"Underweight\")\n",
    "    elif bmi>18.5 and bmi<24.9:\n",
    "        print(\"Normal Weight\")\n",
    "    elif bmi>=25 and bmi<29.9:\n",
    "        print(\"Overweight->Increased\")\n",
    "    elif bmi>=30 and bmi<34.9:\n",
    "        print(\"Obese->High\")\n",
    "    elif bmi>=35 and bmi<39.9:\n",
    "        print(\"Obese->Very High\")\n",
    "    elif bmi>=40:\n",
    "        print(\"Morbidly Obese-> Extremely High\")\n",
    "    else:\n",
    "        print(\"Enter Valid input\")"
   ]
  }
 ],
 "metadata": {
  "kernelspec": {
   "display_name": "Python 3 (ipykernel)",
   "language": "python",
   "name": "python3"
  },
  "language_info": {
   "codemirror_mode": {
    "name": "ipython",
    "version": 3
   },
   "file_extension": ".py",
   "mimetype": "text/x-python",
   "name": "python",
   "nbconvert_exporter": "python",
   "pygments_lexer": "ipython3",
   "version": "3.10.9"
  }
 },
 "nbformat": 4,
 "nbformat_minor": 5
}
