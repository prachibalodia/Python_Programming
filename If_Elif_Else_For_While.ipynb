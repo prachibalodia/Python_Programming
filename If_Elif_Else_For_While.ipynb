{
 "cells": [
  {
   "cell_type": "code",
   "execution_count": 1,
   "id": "c5071d51",
   "metadata": {},
   "outputs": [],
   "source": [
    "#If-Elif-Else"
   ]
  },
  {
   "cell_type": "code",
   "execution_count": 2,
   "id": "09a29c74",
   "metadata": {},
   "outputs": [
    {
     "name": "stdout",
     "output_type": "stream",
     "text": [
      "It worked\n"
     ]
    }
   ],
   "source": [
    "if 25>10:\n",
    "    print(\"It worked\")\n",
    "else:\n",
    "    print(\"Doesnt work\")"
   ]
  },
  {
   "cell_type": "code",
   "execution_count": 3,
   "id": "968ca92e",
   "metadata": {},
   "outputs": [
    {
     "name": "stdout",
     "output_type": "stream",
     "text": [
      "Doesnt work\n"
     ]
    }
   ],
   "source": [
    "if 25<10:\n",
    "    print(\"It worked\")\n",
    "elif 25<20:\n",
    "    print(\"Elif worked\")\n",
    "else:\n",
    "    print(\"Doesnt work\")"
   ]
  },
  {
   "cell_type": "code",
   "execution_count": 4,
   "id": "497f7757",
   "metadata": {},
   "outputs": [
    {
     "name": "stdout",
     "output_type": "stream",
     "text": [
      "If worked\n",
      "Nested if workd as well..\n"
     ]
    }
   ],
   "source": [
    "#Nested if\n",
    "\n",
    "if 25>10:\n",
    "    print(\"If worked\")\n",
    "    if 20>5:\n",
    "        print(\"Nested if workd as well..\")"
   ]
  },
  {
   "cell_type": "code",
   "execution_count": 7,
   "id": "352e2328",
   "metadata": {},
   "outputs": [
    {
     "name": "stdout",
     "output_type": "stream",
     "text": [
      "1\n",
      "I like jelly\n",
      "2\n",
      "\n",
      "\n",
      "2\n",
      "I like jelly\n",
      "4\n",
      "\n",
      "\n",
      "3\n",
      "I like jelly\n",
      "6\n",
      "\n",
      "\n",
      "4\n",
      "I like jelly\n",
      "8\n",
      "\n",
      "\n",
      "5\n",
      "I like jelly\n",
      "10\n",
      "\n",
      "\n",
      "6\n",
      "I like jelly\n",
      "12\n",
      "\n",
      "\n",
      "7\n",
      "I like jelly\n",
      "14\n",
      "\n",
      "\n"
     ]
    }
   ],
   "source": [
    "#For Loops\n",
    "\n",
    "#For loops with LIST\n",
    "nums= [1,2,3,4,5,6,7]\n",
    "for i in nums:\n",
    "    print(i)\n",
    "    print(\"I like jelly\")\n",
    "    print(i+i)\n",
    "    print(\"\\n\")"
   ]
  },
  {
   "cell_type": "code",
   "execution_count": 8,
   "id": "d02e042c",
   "metadata": {},
   "outputs": [
    {
     "name": "stdout",
     "output_type": "stream",
     "text": [
      "1\n",
      "2\n",
      "3\n",
      "4\n",
      "5\n",
      "6\n",
      "7\n",
      "8\n",
      "9\n",
      "10\n"
     ]
    }
   ],
   "source": [
    "#For Loops with SETS\n",
    "set1= {1,2,2,3,4,5,6,7,3,5,9,10,8,8}\n",
    "for i in set1:\n",
    "    print(i)"
   ]
  },
  {
   "cell_type": "code",
   "execution_count": 9,
   "id": "0787ff45",
   "metadata": {},
   "outputs": [
    {
     "data": {
      "text/plain": [
       "{'Name': 'Prachi',\n",
       " 'Age': 21,\n",
       " 'Fav Subject': ['Geography', 'History'],\n",
       " 'Weigth': 61}"
      ]
     },
     "execution_count": 9,
     "metadata": {},
     "output_type": "execute_result"
    }
   ],
   "source": [
    "#For Loops with Dictionaries\n",
    "dict1= {\"Name\": \"Prachi\", \"Age\": 21, \"Fav Subject\": ['Geography', 'History'], \"Weigth\":61}\n",
    "dict1"
   ]
  },
  {
   "cell_type": "code",
   "execution_count": 11,
   "id": "a18c223e",
   "metadata": {},
   "outputs": [
    {
     "name": "stdout",
     "output_type": "stream",
     "text": [
      "Prachi\n",
      "21\n",
      "['Geography', 'History']\n",
      "61\n"
     ]
    }
   ],
   "source": [
    "for i in dict1.values():\n",
    "    print(i)"
   ]
  },
  {
   "cell_type": "code",
   "execution_count": 12,
   "id": "bc6ea017",
   "metadata": {},
   "outputs": [
    {
     "name": "stdout",
     "output_type": "stream",
     "text": [
      "('Name', 'Prachi')\n",
      "('Age', 21)\n",
      "('Fav Subject', ['Geography', 'History'])\n",
      "('Weigth', 61)\n"
     ]
    }
   ],
   "source": [
    "for i in dict1.items():\n",
    "    print(i)"
   ]
  },
  {
   "cell_type": "code",
   "execution_count": 13,
   "id": "9862acce",
   "metadata": {},
   "outputs": [
    {
     "name": "stdout",
     "output_type": "stream",
     "text": [
      "Name\n",
      "Age\n",
      "Fav Subject\n",
      "Weigth\n"
     ]
    }
   ],
   "source": [
    "for i in dict1.keys():\n",
    "    print(i)"
   ]
  },
  {
   "cell_type": "code",
   "execution_count": 14,
   "id": "ded6d6bd",
   "metadata": {},
   "outputs": [
    {
     "name": "stdout",
     "output_type": "stream",
     "text": [
      "Name -> Prachi\n",
      "Age -> 21\n",
      "Fav Subject -> ['Geography', 'History']\n",
      "Weigth -> 61\n"
     ]
    }
   ],
   "source": [
    "for key,value in dict1.items():\n",
    "    print(key, \"->\", value)"
   ]
  },
  {
   "cell_type": "code",
   "execution_count": 16,
   "id": "32c54f27",
   "metadata": {},
   "outputs": [
    {
     "name": "stdout",
     "output_type": "stream",
     "text": [
      "Vanilla topped with Chocochip\n",
      "Vanilla topped with Caramel\n",
      "Vanilla topped with Cookie Crumbs\n",
      "Vanilla topped with Hot Fudge\n",
      "Chocolate topped with Chocochip\n",
      "Chocolate topped with Caramel\n",
      "Chocolate topped with Cookie Crumbs\n",
      "Chocolate topped with Hot Fudge\n",
      "Mint topped with Chocochip\n",
      "Mint topped with Caramel\n",
      "Mint topped with Cookie Crumbs\n",
      "Mint topped with Hot Fudge\n"
     ]
    }
   ],
   "source": [
    "#Nested For Loops\n",
    "flavours= ['Vanilla', \"Chocolate\", \"Mint\"]\n",
    "toppings= [\"Chocochip\", \"Caramel\", \"Cookie Crumbs\",\"Hot Fudge\"]\n",
    "\n",
    "for i in flavours:\n",
    "    for j in toppings:\n",
    "        print(i, \"topped with\", j)"
   ]
  },
  {
   "cell_type": "code",
   "execution_count": 17,
   "id": "1cbc58e9",
   "metadata": {},
   "outputs": [
    {
     "name": "stdout",
     "output_type": "stream",
     "text": [
      "0\n",
      "1\n",
      "2\n",
      "3\n",
      "4\n",
      "5\n"
     ]
    }
   ],
   "source": [
    "#While Loops\n",
    "\n",
    "#Ex-1\n",
    "n=0\n",
    "while n<=5:\n",
    "    print(n)\n",
    "    n+=1"
   ]
  },
  {
   "cell_type": "code",
   "execution_count": 18,
   "id": "65c05a66",
   "metadata": {},
   "outputs": [
    {
     "name": "stdout",
     "output_type": "stream",
     "text": [
      "0\n",
      "1\n",
      "2\n",
      "3\n"
     ]
    }
   ],
   "source": [
    "#Ex-2\n",
    "n=0\n",
    "while n<=5:\n",
    "    print(n)\n",
    "    if n==3:\n",
    "        break\n",
    "    n+=1"
   ]
  },
  {
   "cell_type": "code",
   "execution_count": null,
   "id": "40d7a89e",
   "metadata": {},
   "outputs": [],
   "source": [
    "#Ex-3\n",
    "n=0\n",
    "while n<=5:\n",
    "    print(n)\n",
    "    if n==3:\n",
    "        continue #will enter into an infinite loop\n",
    "    n+=1"
   ]
  },
  {
   "cell_type": "code",
   "execution_count": 25,
   "id": "3aa3cff6",
   "metadata": {},
   "outputs": [
    {
     "name": "stdout",
     "output_type": "stream",
     "text": [
      "1\n",
      "2\n",
      "4\n",
      "5\n",
      "6\n"
     ]
    }
   ],
   "source": [
    "#Ex-4\n",
    "n=0\n",
    "while n<=5:\n",
    "    n+=1\n",
    "    if n==3:\n",
    "        continue #will enter into an infinite loop\n",
    "    print(n)"
   ]
  }
 ],
 "metadata": {
  "kernelspec": {
   "display_name": "Python 3 (ipykernel)",
   "language": "python",
   "name": "python3"
  },
  "language_info": {
   "codemirror_mode": {
    "name": "ipython",
    "version": 3
   },
   "file_extension": ".py",
   "mimetype": "text/x-python",
   "name": "python",
   "nbconvert_exporter": "python",
   "pygments_lexer": "ipython3",
   "version": "3.10.9"
  }
 },
 "nbformat": 4,
 "nbformat_minor": 5
}
