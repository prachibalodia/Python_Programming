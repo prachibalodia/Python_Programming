{
 "cells": [
  {
   "cell_type": "code",
   "execution_count": 3,
   "id": "651b6946",
   "metadata": {},
   "outputs": [
    {
     "name": "stdout",
     "output_type": "stream",
     "text": [
      "Hello, I'm Prachi\n",
      "5\n"
     ]
    }
   ],
   "source": [
    "a= input()\n",
    "b= input()"
   ]
  },
  {
   "cell_type": "code",
   "execution_count": 4,
   "id": "2a4d15b3",
   "metadata": {},
   "outputs": [
    {
     "name": "stdout",
     "output_type": "stream",
     "text": [
      "<class 'str'>\n",
      "<class 'str'>\n"
     ]
    }
   ],
   "source": [
    "print(type(a))\n",
    "print(type(b))"
   ]
  },
  {
   "cell_type": "code",
   "execution_count": 6,
   "id": "f3a3d4db",
   "metadata": {},
   "outputs": [
    {
     "name": "stdout",
     "output_type": "stream",
     "text": [
      "Enter a number: 5\n"
     ]
    }
   ],
   "source": [
    "n= input(\"Enter a number: \")"
   ]
  },
  {
   "cell_type": "code",
   "execution_count": 7,
   "id": "08dc4444",
   "metadata": {},
   "outputs": [
    {
     "name": "stdout",
     "output_type": "stream",
     "text": [
      "<class 'str'>\n"
     ]
    }
   ],
   "source": [
    "print(type(n))"
   ]
  },
  {
   "cell_type": "code",
   "execution_count": 8,
   "id": "30ae5e0e",
   "metadata": {},
   "outputs": [
    {
     "name": "stdout",
     "output_type": "stream",
     "text": [
      "<class 'int'>\n"
     ]
    }
   ],
   "source": [
    "#Conversion to int data type\n",
    "n= int(n)\n",
    "print(type(n))"
   ]
  },
  {
   "cell_type": "code",
   "execution_count": 9,
   "id": "893504fc",
   "metadata": {},
   "outputs": [
    {
     "name": "stdout",
     "output_type": "stream",
     "text": [
      "30\n"
     ]
    }
   ],
   "source": [
    "print(n*6)"
   ]
  },
  {
   "cell_type": "code",
   "execution_count": 16,
   "id": "1969189b",
   "metadata": {},
   "outputs": [
    {
     "name": "stdout",
     "output_type": "stream",
     "text": [
      "Hello, I'm PrachiHello, I'm PrachiHello, I'm Prachi\n",
      "\n",
      "\n",
      "555\n"
     ]
    }
   ],
   "source": [
    "print(a*3)\n",
    "print(\"\\n\")\n",
    "print(b*3) #output is 555 since b is a string"
   ]
  },
  {
   "cell_type": "code",
   "execution_count": 17,
   "id": "1bef07c9",
   "metadata": {},
   "outputs": [
    {
     "name": "stdout",
     "output_type": "stream",
     "text": [
      "Hello, this is a multiline string.\n",
      "Here we can easily give multilines.\n",
      "As we want.\n",
      "However we want...\n"
     ]
    }
   ],
   "source": [
    "#Strings\n",
    "\n",
    "#MultiLine Strings\n",
    "multiline= \"\"\"Hello, this is a multiline string.\n",
    "Here we can easily give multilines.\n",
    "As we want.\n",
    "However we want...\"\"\"\n",
    "print(multiline)"
   ]
  },
  {
   "cell_type": "code",
   "execution_count": 18,
   "id": "0e8a131f",
   "metadata": {},
   "outputs": [
    {
     "name": "stdout",
     "output_type": "stream",
     "text": [
      "Vanilla\n",
      "\n",
      "\n",
      "Chocolate\n",
      "\n",
      "\n",
      "Mint\n",
      "\n",
      "\n",
      "('Vanilla', 'Chocolate', 'Mint')\n",
      "\n",
      "\n",
      "<class 'tuple'>\n"
     ]
    }
   ],
   "source": [
    "#List of Strings\n",
    "fav= \"Vanilla\", \"Chocolate\", \"Mint\"\n",
    "x,y,z= fav\n",
    "print(x)\n",
    "print(\"\\n\")\n",
    "print(y)\n",
    "print(\"\\n\")\n",
    "print(z)\n",
    "print(\"\\n\")\n",
    "print(fav)\n",
    "print(\"\\n\")\n",
    "print(type(fav))"
   ]
  },
  {
   "cell_type": "code",
   "execution_count": 22,
   "id": "89a70859",
   "metadata": {},
   "outputs": [
    {
     "name": "stdout",
     "output_type": "stream",
     "text": [
      "My name is Prachi Roshni\n",
      "My name is Prachi and Roshni\n"
     ]
    }
   ],
   "source": [
    "name1= \"Prachi\"\n",
    "name2= \"Roshni\"\n",
    "print(\"My name is\",name1,name2)\n",
    "print(\"My name is\",name1, \"and\",name2)"
   ]
  },
  {
   "cell_type": "code",
   "execution_count": 28,
   "id": "eccb63bd",
   "metadata": {},
   "outputs": [
    {
     "name": "stdout",
     "output_type": "stream",
     "text": [
      "P\n",
      "\n",
      "\n",
      "6\n",
      "\n",
      "\n",
      "i\n"
     ]
    }
   ],
   "source": [
    "print(name1[0])\n",
    "print(\"\\n\")\n",
    "print(len(name1))\n",
    "print(\"\\n\")\n",
    "print(name1[len(name1)-1]) #last element"
   ]
  },
  {
   "cell_type": "code",
   "execution_count": 29,
   "id": "028d3bde",
   "metadata": {},
   "outputs": [
    {
     "name": "stdout",
     "output_type": "stream",
     "text": [
      "R\n",
      "o\n",
      "s\n",
      "h\n",
      "n\n",
      "i\n"
     ]
    }
   ],
   "source": [
    "for ch in name2:\n",
    "    print(ch)"
   ]
  },
  {
   "cell_type": "code",
   "execution_count": 30,
   "id": "8401280c",
   "metadata": {},
   "outputs": [
    {
     "name": "stdout",
     "output_type": "stream",
     "text": [
      "Roshni Balodia\n"
     ]
    }
   ],
   "source": [
    "#Slicing in Strings\n",
    "name= \"Roshni Balodia\"\n",
    "print(name)"
   ]
  },
  {
   "cell_type": "code",
   "execution_count": 34,
   "id": "4c828d0f",
   "metadata": {},
   "outputs": [
    {
     "name": "stdout",
     "output_type": "stream",
     "text": [
      "14\n",
      "\n",
      "\n",
      "Roshni Balodia\n",
      "\n",
      "\n",
      "Roshni B\n"
     ]
    }
   ],
   "source": [
    "l= len(name)\n",
    "print(l)\n",
    "print(\"\\n\")\n",
    "print(name[:])\n",
    "print(\"\\n\")\n",
    "print(name[:8]) #8th index is not included"
   ]
  },
  {
   "cell_type": "code",
   "execution_count": 37,
   "id": "920a7a07",
   "metadata": {},
   "outputs": [
    {
     "name": "stdout",
     "output_type": "stream",
     "text": [
      "Roshni Balodia\n",
      "\n",
      "\n",
      "Balodia\n",
      "\n",
      "\n",
      "oshni\n"
     ]
    }
   ],
   "source": [
    "print(name[:l])\n",
    "print(\"\\n\")\n",
    "print(name[7:l]) #7th index B is included\n",
    "print(\"\\n\")\n",
    "print(name[1:6])"
   ]
  },
  {
   "cell_type": "code",
   "execution_count": 38,
   "id": "4ebb9a84",
   "metadata": {},
   "outputs": [
    {
     "name": "stdout",
     "output_type": "stream",
     "text": [
      "Roshni Balodi\n"
     ]
    }
   ],
   "source": [
    "#Negative indices slicing\n",
    "print(name[-14:-1]) #l-14 : l-1 = 0:13"
   ]
  },
  {
   "cell_type": "code",
   "execution_count": 39,
   "id": "3372ce87",
   "metadata": {},
   "outputs": [
    {
     "name": "stdout",
     "output_type": "stream",
     "text": [
      "Balodia\n"
     ]
    }
   ],
   "source": [
    "print(name[l-7:l-0])"
   ]
  },
  {
   "cell_type": "code",
   "execution_count": 40,
   "id": "f03cad0b",
   "metadata": {},
   "outputs": [
    {
     "name": "stdout",
     "output_type": "stream",
     "text": [
      "i Balodi\n"
     ]
    }
   ],
   "source": [
    "print(name[-9:-1])"
   ]
  },
  {
   "cell_type": "code",
   "execution_count": 41,
   "id": "2cb01ecb",
   "metadata": {},
   "outputs": [
    {
     "name": "stdout",
     "output_type": "stream",
     "text": [
      "aidolaB inhsoR\n"
     ]
    }
   ],
   "source": [
    "#Reverse of a String\n",
    "print(name[::-1]) #adding a step size of -1, to read from the end"
   ]
  },
  {
   "cell_type": "code",
   "execution_count": 51,
   "id": "f6e25be8",
   "metadata": {},
   "outputs": [
    {
     "name": "stdout",
     "output_type": "stream",
     "text": [
      "Roshni Balodia\n",
      "\n",
      "\n",
      "Rsn aoi\n",
      "\n",
      "\n",
      "adlBiho\n",
      "\n",
      "\n",
      "Rh li\n",
      "\n",
      "\n",
      "aoBno\n"
     ]
    }
   ],
   "source": [
    "print(name)\n",
    "print(\"\\n\")\n",
    "print(name[::2]) #step size of 2, selects every 2nd element starting from the 0th element\n",
    "print(\"\\n\")\n",
    "print(name[::-2])#step size of -2, selects every 2nd element starting from the (l-1)th element, i.e last element\n",
    "print(\"\\n\")\n",
    "print(name[::3])\n",
    "print(\"\\n\")\n",
    "print(name[::-3])"
   ]
  }
 ],
 "metadata": {
  "kernelspec": {
   "display_name": "Python 3 (ipykernel)",
   "language": "python",
   "name": "python3"
  },
  "language_info": {
   "codemirror_mode": {
    "name": "ipython",
    "version": 3
   },
   "file_extension": ".py",
   "mimetype": "text/x-python",
   "name": "python",
   "nbconvert_exporter": "python",
   "pygments_lexer": "ipython3",
   "version": "3.10.9"
  }
 },
 "nbformat": 4,
 "nbformat_minor": 5
}
