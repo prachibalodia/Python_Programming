{
 "cells": [
  {
   "cell_type": "code",
   "execution_count": 1,
   "id": "c7107f67",
   "metadata": {},
   "outputs": [],
   "source": [
    "#Operators\n",
    "#Comparison Operators-> ==, !=, >, <, >=, <=\n",
    "#Logical Operators-> and, or, not\n",
    "#Membership Operators-> in , not in"
   ]
  },
  {
   "cell_type": "code",
   "execution_count": 2,
   "id": "2ce9455a",
   "metadata": {},
   "outputs": [
    {
     "data": {
      "text/plain": [
       "True"
      ]
     },
     "execution_count": 2,
     "metadata": {},
     "output_type": "execute_result"
    }
   ],
   "source": [
    "#Membership Operators-> in , not in\n",
    "iceCream= \"I love Ice Creams\"\n",
    "\"love\" in iceCream"
   ]
  },
  {
   "cell_type": "code",
   "execution_count": 3,
   "id": "3974edb2",
   "metadata": {},
   "outputs": [
    {
     "data": {
      "text/plain": [
       "True"
      ]
     },
     "execution_count": 3,
     "metadata": {},
     "output_type": "execute_result"
    }
   ],
   "source": [
    "\"Love\" not in iceCream"
   ]
  },
  {
   "cell_type": "code",
   "execution_count": 4,
   "id": "2800dfa8",
   "metadata": {},
   "outputs": [],
   "source": [
    "list1= [1,2,3,4,5,6]"
   ]
  },
  {
   "cell_type": "code",
   "execution_count": 5,
   "id": "17b0eb67",
   "metadata": {},
   "outputs": [
    {
     "data": {
      "text/plain": [
       "True"
      ]
     },
     "execution_count": 5,
     "metadata": {},
     "output_type": "execute_result"
    }
   ],
   "source": [
    "2 in list1"
   ]
  },
  {
   "cell_type": "code",
   "execution_count": 6,
   "id": "b6663f82",
   "metadata": {},
   "outputs": [
    {
     "data": {
      "text/plain": [
       "False"
      ]
     },
     "execution_count": 6,
     "metadata": {},
     "output_type": "execute_result"
    }
   ],
   "source": [
    "8 in list1"
   ]
  }
 ],
 "metadata": {
  "kernelspec": {
   "display_name": "Python 3 (ipykernel)",
   "language": "python",
   "name": "python3"
  },
  "language_info": {
   "codemirror_mode": {
    "name": "ipython",
    "version": 3
   },
   "file_extension": ".py",
   "mimetype": "text/x-python",
   "name": "python",
   "nbconvert_exporter": "python",
   "pygments_lexer": "ipython3",
   "version": "3.10.9"
  }
 },
 "nbformat": 4,
 "nbformat_minor": 5
}
